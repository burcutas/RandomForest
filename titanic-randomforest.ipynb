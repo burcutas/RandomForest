{
 "cells": [
  {
   "cell_type": "code",
   "execution_count": 1,
   "id": "07362ba2",
   "metadata": {
    "_cell_guid": "b1076dfc-b9ad-4769-8c92-a6c4dae69d19",
    "_uuid": "8f2839f25d086af736a60e9eeb907d3b93b6e0e5",
    "execution": {
     "iopub.execute_input": "2023-05-29T20:45:53.461265Z",
     "iopub.status.busy": "2023-05-29T20:45:53.460872Z",
     "iopub.status.idle": "2023-05-29T20:45:53.476278Z",
     "shell.execute_reply": "2023-05-29T20:45:53.474552Z"
    },
    "papermill": {
     "duration": 0.032916,
     "end_time": "2023-05-29T20:45:53.478858",
     "exception": false,
     "start_time": "2023-05-29T20:45:53.445942",
     "status": "completed"
    },
    "tags": []
   },
   "outputs": [
    {
     "name": "stdout",
     "output_type": "stream",
     "text": [
      "/kaggle/input/titanic/train.csv\n",
      "/kaggle/input/titanic/test.csv\n",
      "/kaggle/input/titanic/gender_submission.csv\n"
     ]
    }
   ],
   "source": [
    "# This Python 3 environment comes with many helpful analytics libraries installed\n",
    "# It is defined by the kaggle/python Docker image: https://github.com/kaggle/docker-python\n",
    "# For example, here's several helpful packages to load\n",
    "\n",
    "import numpy as np # linear algebra\n",
    "import pandas as pd # data processing, CSV file I/O (e.g. pd.read_csv)\n",
    "\n",
    "# Input data files are available in the read-only \"../input/\" directory\n",
    "# For example, running this (by clicking run or pressing Shift+Enter) will list all files under the input directory\n",
    "\n",
    "import os\n",
    "for dirname, _, filenames in os.walk('/kaggle/input'):\n",
    "    for filename in filenames:\n",
    "        print(os.path.join(dirname, filename))\n",
    "\n",
    "# You can write up to 20GB to the current directory (/kaggle/working/) that gets preserved as output when you create a version using \"Save & Run All\" \n",
    "# You can also write temporary files to /kaggle/temp/, but they won't be saved outside of the current session"
   ]
  },
  {
   "cell_type": "markdown",
   "id": "54529b12",
   "metadata": {
    "papermill": {
     "duration": 0.012498,
     "end_time": "2023-05-29T20:45:53.504279",
     "exception": false,
     "start_time": "2023-05-29T20:45:53.491781",
     "status": "completed"
    },
    "tags": []
   },
   "source": [
    "# RANDOM FOREST"
   ]
  },
  {
   "cell_type": "markdown",
   "id": "16ea7a2b",
   "metadata": {
    "papermill": {
     "duration": 0.012253,
     "end_time": "2023-05-29T20:45:53.530730",
     "exception": false,
     "start_time": "2023-05-29T20:45:53.518477",
     "status": "completed"
    },
    "tags": []
   },
   "source": [
    "Random Forest algoritması, birden çok decision tree üzerinden her birini farklı bir gözlem örneği üzerinden eğiterek çeşitli modeller üretir. Sınıflandırma veya Regresyon problemlerini çözmekte kullanılır."
   ]
  },
  {
   "cell_type": "markdown",
   "id": "9ccdb452",
   "metadata": {
    "papermill": {
     "duration": 0.012737,
     "end_time": "2023-05-29T20:45:53.556538",
     "exception": false,
     "start_time": "2023-05-29T20:45:53.543801",
     "status": "completed"
    },
    "tags": []
   },
   "source": [
    "Bir Supervised Learning algoritmasıdır."
   ]
  },
  {
   "cell_type": "markdown",
   "id": "5ea5cc97",
   "metadata": {
    "papermill": {
     "duration": 0.012224,
     "end_time": "2023-05-29T20:45:53.581473",
     "exception": false,
     "start_time": "2023-05-29T20:45:53.569249",
     "status": "completed"
    },
    "tags": []
   },
   "source": [
    "Çok büyük data setleri üzerinde etkili bir şekilde kullanılabilir."
   ]
  },
  {
   "cell_type": "markdown",
   "id": "ef18b695",
   "metadata": {
    "papermill": {
     "duration": 0.012535,
     "end_time": "2023-05-29T20:45:53.606874",
     "exception": false,
     "start_time": "2023-05-29T20:45:53.594339",
     "status": "completed"
    },
    "tags": []
   },
   "source": [
    "Bir Ensemble Learning tekniğidir.\n",
    "\n",
    "1. Bagging (*)\n",
    "2. Stacking\n",
    "3. Boosting"
   ]
  },
  {
   "cell_type": "markdown",
   "id": "5d433396",
   "metadata": {
    "papermill": {
     "duration": 0.012459,
     "end_time": "2023-05-29T20:45:53.631911",
     "exception": false,
     "start_time": "2023-05-29T20:45:53.619452",
     "status": "completed"
    },
    "tags": []
   },
   "source": [
    "#  Random Forest Algoritması Adımları"
   ]
  },
  {
   "cell_type": "markdown",
   "id": "f59b550a",
   "metadata": {
    "papermill": {
     "duration": 0.012318,
     "end_time": "2023-05-29T20:45:53.656735",
     "exception": false,
     "start_time": "2023-05-29T20:45:53.644417",
     "status": "completed"
    },
    "tags": []
   },
   "source": [
    "1. Analiz edilecek veri seti hazırlanır, (Analiz edilecek küme oluşturulur, gerekli görülürse veri temizlemesi gerçekleştirilir.)\n",
    "2. Algoritma her bir örnek için karar ağacı oluşturur ve her bir karar ağacının tahmini değer sonucu oluşur,\n",
    "3. Tahmin sonucu oluşan her değer için oylama gerçekleştirilir, (Sınıflandırma problemi için Modu (Mode), Regresyon problemi için Ortalamayı (Mean))\n",
    "4. Son olarak algoritma son tahmin için en çok oylanan değeri seçerek sonuç oluşturur."
   ]
  },
  {
   "cell_type": "markdown",
   "id": "31ce39b6",
   "metadata": {
    "papermill": {
     "duration": 0.012429,
     "end_time": "2023-05-29T20:45:53.681803",
     "exception": false,
     "start_time": "2023-05-29T20:45:53.669374",
     "status": "completed"
    },
    "tags": []
   },
   "source": [
    "# Random Forest Uygulaması"
   ]
  },
  {
   "cell_type": "code",
   "execution_count": 2,
   "id": "0ae5bae9",
   "metadata": {
    "execution": {
     "iopub.execute_input": "2023-05-29T20:45:53.709184Z",
     "iopub.status.busy": "2023-05-29T20:45:53.708253Z",
     "iopub.status.idle": "2023-05-29T20:45:55.256589Z",
     "shell.execute_reply": "2023-05-29T20:45:55.255641Z"
    },
    "papermill": {
     "duration": 1.564929,
     "end_time": "2023-05-29T20:45:55.259256",
     "exception": false,
     "start_time": "2023-05-29T20:45:53.694327",
     "status": "completed"
    },
    "tags": []
   },
   "outputs": [],
   "source": [
    "import matplotlib.pyplot as plt\n",
    "import seaborn as sns\n",
    "\n",
    "%matplotlib inline\n",
    "sns.set_style(\"whitegrid\")\n",
    "plt.style.use(\"fivethirtyeight\")"
   ]
  },
  {
   "cell_type": "code",
   "execution_count": 3,
   "id": "f756749f",
   "metadata": {
    "execution": {
     "iopub.execute_input": "2023-05-29T20:45:55.286463Z",
     "iopub.status.busy": "2023-05-29T20:45:55.286086Z",
     "iopub.status.idle": "2023-05-29T20:45:55.348239Z",
     "shell.execute_reply": "2023-05-29T20:45:55.347402Z"
    },
    "papermill": {
     "duration": 0.07863,
     "end_time": "2023-05-29T20:45:55.350718",
     "exception": false,
     "start_time": "2023-05-29T20:45:55.272088",
     "status": "completed"
    },
    "tags": []
   },
   "outputs": [
    {
     "data": {
      "text/html": [
       "<div>\n",
       "<style scoped>\n",
       "    .dataframe tbody tr th:only-of-type {\n",
       "        vertical-align: middle;\n",
       "    }\n",
       "\n",
       "    .dataframe tbody tr th {\n",
       "        vertical-align: top;\n",
       "    }\n",
       "\n",
       "    .dataframe thead th {\n",
       "        text-align: right;\n",
       "    }\n",
       "</style>\n",
       "<table border=\"1\" class=\"dataframe\">\n",
       "  <thead>\n",
       "    <tr style=\"text-align: right;\">\n",
       "      <th></th>\n",
       "      <th>PassengerId</th>\n",
       "      <th>Survived</th>\n",
       "      <th>Pclass</th>\n",
       "      <th>Name</th>\n",
       "      <th>Sex</th>\n",
       "      <th>Age</th>\n",
       "      <th>SibSp</th>\n",
       "      <th>Parch</th>\n",
       "      <th>Ticket</th>\n",
       "      <th>Fare</th>\n",
       "      <th>Cabin</th>\n",
       "      <th>Embarked</th>\n",
       "    </tr>\n",
       "  </thead>\n",
       "  <tbody>\n",
       "    <tr>\n",
       "      <th>0</th>\n",
       "      <td>1</td>\n",
       "      <td>0</td>\n",
       "      <td>3</td>\n",
       "      <td>Braund, Mr. Owen Harris</td>\n",
       "      <td>male</td>\n",
       "      <td>22.0</td>\n",
       "      <td>1</td>\n",
       "      <td>0</td>\n",
       "      <td>A/5 21171</td>\n",
       "      <td>7.2500</td>\n",
       "      <td>NaN</td>\n",
       "      <td>S</td>\n",
       "    </tr>\n",
       "    <tr>\n",
       "      <th>1</th>\n",
       "      <td>2</td>\n",
       "      <td>1</td>\n",
       "      <td>1</td>\n",
       "      <td>Cumings, Mrs. John Bradley (Florence Briggs Th...</td>\n",
       "      <td>female</td>\n",
       "      <td>38.0</td>\n",
       "      <td>1</td>\n",
       "      <td>0</td>\n",
       "      <td>PC 17599</td>\n",
       "      <td>71.2833</td>\n",
       "      <td>C85</td>\n",
       "      <td>C</td>\n",
       "    </tr>\n",
       "    <tr>\n",
       "      <th>2</th>\n",
       "      <td>3</td>\n",
       "      <td>1</td>\n",
       "      <td>3</td>\n",
       "      <td>Heikkinen, Miss. Laina</td>\n",
       "      <td>female</td>\n",
       "      <td>26.0</td>\n",
       "      <td>0</td>\n",
       "      <td>0</td>\n",
       "      <td>STON/O2. 3101282</td>\n",
       "      <td>7.9250</td>\n",
       "      <td>NaN</td>\n",
       "      <td>S</td>\n",
       "    </tr>\n",
       "    <tr>\n",
       "      <th>3</th>\n",
       "      <td>4</td>\n",
       "      <td>1</td>\n",
       "      <td>1</td>\n",
       "      <td>Futrelle, Mrs. Jacques Heath (Lily May Peel)</td>\n",
       "      <td>female</td>\n",
       "      <td>35.0</td>\n",
       "      <td>1</td>\n",
       "      <td>0</td>\n",
       "      <td>113803</td>\n",
       "      <td>53.1000</td>\n",
       "      <td>C123</td>\n",
       "      <td>S</td>\n",
       "    </tr>\n",
       "    <tr>\n",
       "      <th>4</th>\n",
       "      <td>5</td>\n",
       "      <td>0</td>\n",
       "      <td>3</td>\n",
       "      <td>Allen, Mr. William Henry</td>\n",
       "      <td>male</td>\n",
       "      <td>35.0</td>\n",
       "      <td>0</td>\n",
       "      <td>0</td>\n",
       "      <td>373450</td>\n",
       "      <td>8.0500</td>\n",
       "      <td>NaN</td>\n",
       "      <td>S</td>\n",
       "    </tr>\n",
       "  </tbody>\n",
       "</table>\n",
       "</div>"
      ],
      "text/plain": [
       "   PassengerId  Survived  Pclass  \\\n",
       "0            1         0       3   \n",
       "1            2         1       1   \n",
       "2            3         1       3   \n",
       "3            4         1       1   \n",
       "4            5         0       3   \n",
       "\n",
       "                                                Name     Sex   Age  SibSp  \\\n",
       "0                            Braund, Mr. Owen Harris    male  22.0      1   \n",
       "1  Cumings, Mrs. John Bradley (Florence Briggs Th...  female  38.0      1   \n",
       "2                             Heikkinen, Miss. Laina  female  26.0      0   \n",
       "3       Futrelle, Mrs. Jacques Heath (Lily May Peel)  female  35.0      1   \n",
       "4                           Allen, Mr. William Henry    male  35.0      0   \n",
       "\n",
       "   Parch            Ticket     Fare Cabin Embarked  \n",
       "0      0         A/5 21171   7.2500   NaN        S  \n",
       "1      0          PC 17599  71.2833   C85        C  \n",
       "2      0  STON/O2. 3101282   7.9250   NaN        S  \n",
       "3      0            113803  53.1000  C123        S  \n",
       "4      0            373450   8.0500   NaN        S  "
      ]
     },
     "execution_count": 3,
     "metadata": {},
     "output_type": "execute_result"
    }
   ],
   "source": [
    "df= pd.read_csv('/kaggle/input/titanic/train.csv')\n",
    "df.head()"
   ]
  },
  {
   "cell_type": "code",
   "execution_count": 4,
   "id": "77342375",
   "metadata": {
    "execution": {
     "iopub.execute_input": "2023-05-29T20:45:55.379116Z",
     "iopub.status.busy": "2023-05-29T20:45:55.378088Z",
     "iopub.status.idle": "2023-05-29T20:45:55.384017Z",
     "shell.execute_reply": "2023-05-29T20:45:55.383255Z"
    },
    "papermill": {
     "duration": 0.022641,
     "end_time": "2023-05-29T20:45:55.386367",
     "exception": false,
     "start_time": "2023-05-29T20:45:55.363726",
     "status": "completed"
    },
    "tags": []
   },
   "outputs": [],
   "source": [
    "def get_first_info(X):\n",
    "    print(\"verimizin boyutu:\",X.shape)\n",
    "    print(\"__________________________________________\")\n",
    "    print(X.info())\n",
    "    print(\"__________________________________________\")\n",
    "    print(X.describe().T)"
   ]
  },
  {
   "cell_type": "code",
   "execution_count": 5,
   "id": "5243431d",
   "metadata": {
    "execution": {
     "iopub.execute_input": "2023-05-29T20:45:55.414760Z",
     "iopub.status.busy": "2023-05-29T20:45:55.414344Z",
     "iopub.status.idle": "2023-05-29T20:45:55.468416Z",
     "shell.execute_reply": "2023-05-29T20:45:55.467167Z"
    },
    "papermill": {
     "duration": 0.071363,
     "end_time": "2023-05-29T20:45:55.470929",
     "exception": false,
     "start_time": "2023-05-29T20:45:55.399566",
     "status": "completed"
    },
    "tags": []
   },
   "outputs": [
    {
     "name": "stdout",
     "output_type": "stream",
     "text": [
      "verimizin boyutu: (891, 12)\n",
      "__________________________________________\n",
      "<class 'pandas.core.frame.DataFrame'>\n",
      "RangeIndex: 891 entries, 0 to 890\n",
      "Data columns (total 12 columns):\n",
      " #   Column       Non-Null Count  Dtype  \n",
      "---  ------       --------------  -----  \n",
      " 0   PassengerId  891 non-null    int64  \n",
      " 1   Survived     891 non-null    int64  \n",
      " 2   Pclass       891 non-null    int64  \n",
      " 3   Name         891 non-null    object \n",
      " 4   Sex          891 non-null    object \n",
      " 5   Age          714 non-null    float64\n",
      " 6   SibSp        891 non-null    int64  \n",
      " 7   Parch        891 non-null    int64  \n",
      " 8   Ticket       891 non-null    object \n",
      " 9   Fare         891 non-null    float64\n",
      " 10  Cabin        204 non-null    object \n",
      " 11  Embarked     889 non-null    object \n",
      "dtypes: float64(2), int64(5), object(5)\n",
      "memory usage: 83.7+ KB\n",
      "None\n",
      "__________________________________________\n",
      "             count        mean         std   min       25%       50%    75%  \\\n",
      "PassengerId  891.0  446.000000  257.353842  1.00  223.5000  446.0000  668.5   \n",
      "Survived     891.0    0.383838    0.486592  0.00    0.0000    0.0000    1.0   \n",
      "Pclass       891.0    2.308642    0.836071  1.00    2.0000    3.0000    3.0   \n",
      "Age          714.0   29.699118   14.526497  0.42   20.1250   28.0000   38.0   \n",
      "SibSp        891.0    0.523008    1.102743  0.00    0.0000    0.0000    1.0   \n",
      "Parch        891.0    0.381594    0.806057  0.00    0.0000    0.0000    0.0   \n",
      "Fare         891.0   32.204208   49.693429  0.00    7.9104   14.4542   31.0   \n",
      "\n",
      "                  max  \n",
      "PassengerId  891.0000  \n",
      "Survived       1.0000  \n",
      "Pclass         3.0000  \n",
      "Age           80.0000  \n",
      "SibSp          8.0000  \n",
      "Parch          6.0000  \n",
      "Fare         512.3292  \n"
     ]
    }
   ],
   "source": [
    "get_first_info(df)"
   ]
  },
  {
   "cell_type": "code",
   "execution_count": 6,
   "id": "439457fc",
   "metadata": {
    "execution": {
     "iopub.execute_input": "2023-05-29T20:45:55.500119Z",
     "iopub.status.busy": "2023-05-29T20:45:55.499068Z",
     "iopub.status.idle": "2023-05-29T20:45:55.509022Z",
     "shell.execute_reply": "2023-05-29T20:45:55.507831Z"
    },
    "papermill": {
     "duration": 0.027303,
     "end_time": "2023-05-29T20:45:55.511604",
     "exception": false,
     "start_time": "2023-05-29T20:45:55.484301",
     "status": "completed"
    },
    "tags": []
   },
   "outputs": [],
   "source": [
    "def grab_col_names(dataframe,cat_upper_limit=10 ,cardinal_lower_limit = 20): \n",
    "    \"\"\" \n",
    "    This function helps to determine types of columns. Numerical,Categorical,Cardinal \n",
    "    Parameters: dataframe = DataFrame \n",
    "    cat_upper_limit = upper limit of categorical columns's number of unique ->values 10 inital value\n",
    "    cardinal_lowe_limit = lower limit to classify a column as cardinal -> 20 initial value\n",
    "    Return: \n",
    "    cat_cols: includes categorical names but also includes encoding columns or has less unique value than cat_lower_limit\n",
    "    num_cols: includes  names of numerical columns \n",
    "    cardinal_cols : includes names of cardinal columns.In other words,columns which does not carry information. \n",
    "    \"\"\"  \n",
    "    # cat_cols, cat_but_car\n",
    "    cat_cols = [col for col in dataframe.columns if dataframe[col].dtypes == \"O\"]\n",
    "    num_but_cat = [col for col in dataframe.columns if dataframe[col].nunique() < cat_upper_limit and \n",
    "                   dataframe[col].dtypes != \"O\"]\n",
    "    cat_but_car = [col for col in dataframe.columns if dataframe[col].nunique() > cardinal_lower_limit and \n",
    "                   dataframe[col].dtypes == \"O\"]\n",
    "    cat_cols = cat_cols + num_but_cat\n",
    "    cat_cols = [col for col in cat_cols if col not in cat_but_car]\n",
    "\n",
    "    # num_cols\n",
    "    num_cols = [col for col in dataframe.columns if dataframe[col].dtypes != \"O\"]\n",
    "    num_cols = [col for col in num_cols if col not in num_but_cat]\n",
    " \n",
    "    return cat_cols,num_cols,cat_but_car"
   ]
  },
  {
   "cell_type": "code",
   "execution_count": 7,
   "id": "21f9bed9",
   "metadata": {
    "execution": {
     "iopub.execute_input": "2023-05-29T20:45:55.540218Z",
     "iopub.status.busy": "2023-05-29T20:45:55.539180Z",
     "iopub.status.idle": "2023-05-29T20:45:55.550340Z",
     "shell.execute_reply": "2023-05-29T20:45:55.549413Z"
    },
    "papermill": {
     "duration": 0.02791,
     "end_time": "2023-05-29T20:45:55.552653",
     "exception": false,
     "start_time": "2023-05-29T20:45:55.524743",
     "status": "completed"
    },
    "tags": []
   },
   "outputs": [],
   "source": [
    "cat_cols,num_cols,cardinal_cols = grab_col_names(df)"
   ]
  },
  {
   "cell_type": "code",
   "execution_count": 8,
   "id": "4b8f05a0",
   "metadata": {
    "execution": {
     "iopub.execute_input": "2023-05-29T20:45:55.581164Z",
     "iopub.status.busy": "2023-05-29T20:45:55.580454Z",
     "iopub.status.idle": "2023-05-29T20:45:55.587096Z",
     "shell.execute_reply": "2023-05-29T20:45:55.585907Z"
    },
    "papermill": {
     "duration": 0.023736,
     "end_time": "2023-05-29T20:45:55.589402",
     "exception": false,
     "start_time": "2023-05-29T20:45:55.565666",
     "status": "completed"
    },
    "tags": []
   },
   "outputs": [
    {
     "name": "stdout",
     "output_type": "stream",
     "text": [
      "['Sex', 'Embarked', 'Survived', 'Pclass', 'SibSp', 'Parch'] ['PassengerId', 'Age', 'Fare'] ['Name', 'Ticket', 'Cabin']\n"
     ]
    }
   ],
   "source": [
    "print(cat_cols,num_cols,cardinal_cols)"
   ]
  },
  {
   "cell_type": "code",
   "execution_count": 9,
   "id": "210bd491",
   "metadata": {
    "execution": {
     "iopub.execute_input": "2023-05-29T20:45:55.618507Z",
     "iopub.status.busy": "2023-05-29T20:45:55.617670Z",
     "iopub.status.idle": "2023-05-29T20:45:55.624431Z",
     "shell.execute_reply": "2023-05-29T20:45:55.623563Z"
    },
    "papermill": {
     "duration": 0.024103,
     "end_time": "2023-05-29T20:45:55.626926",
     "exception": false,
     "start_time": "2023-05-29T20:45:55.602823",
     "status": "completed"
    },
    "tags": []
   },
   "outputs": [],
   "source": [
    "def Drop_High_Corr(df,corr_level=0.80) : \n",
    "    # Create correlation matrix\n",
    "    corr_matrix = df.corr().abs()\n",
    "\n",
    "    # Select upper triangle of correlation matrix\n",
    "    upper = corr_matrix.where(np.triu(np.ones(corr_matrix.shape), k=1).astype(np.bool))\n",
    "\n",
    "    # Find features with correlation greater than cor level\n",
    "    to_drop = [column for column in upper.columns if any(upper[column] > corr_level)]\n",
    "\n",
    "    # Drop features \n",
    "    df.drop(to_drop, axis=1, inplace=True)"
   ]
  },
  {
   "cell_type": "code",
   "execution_count": 10,
   "id": "7bd0675c",
   "metadata": {
    "execution": {
     "iopub.execute_input": "2023-05-29T20:45:55.655449Z",
     "iopub.status.busy": "2023-05-29T20:45:55.654725Z",
     "iopub.status.idle": "2023-05-29T20:45:55.667638Z",
     "shell.execute_reply": "2023-05-29T20:45:55.666412Z"
    },
    "papermill": {
     "duration": 0.030325,
     "end_time": "2023-05-29T20:45:55.670374",
     "exception": false,
     "start_time": "2023-05-29T20:45:55.640049",
     "status": "completed"
    },
    "tags": []
   },
   "outputs": [
    {
     "name": "stderr",
     "output_type": "stream",
     "text": [
      "/tmp/ipykernel_20/3150590090.py:3: FutureWarning: The default value of numeric_only in DataFrame.corr is deprecated. In a future version, it will default to False. Select only valid columns or specify the value of numeric_only to silence this warning.\n",
      "  corr_matrix = df.corr().abs()\n",
      "/tmp/ipykernel_20/3150590090.py:6: DeprecationWarning: `np.bool` is a deprecated alias for the builtin `bool`. To silence this warning, use `bool` by itself. Doing this will not modify any behavior and is safe. If you specifically wanted the numpy scalar type, use `np.bool_` here.\n",
      "Deprecated in NumPy 1.20; for more details and guidance: https://numpy.org/devdocs/release/1.20.0-notes.html#deprecations\n",
      "  upper = corr_matrix.where(np.triu(np.ones(corr_matrix.shape), k=1).astype(np.bool))\n"
     ]
    }
   ],
   "source": [
    "Drop_High_Corr(df,corr_level=0.80)"
   ]
  },
  {
   "cell_type": "code",
   "execution_count": 11,
   "id": "0376009e",
   "metadata": {
    "execution": {
     "iopub.execute_input": "2023-05-29T20:45:55.698906Z",
     "iopub.status.busy": "2023-05-29T20:45:55.698453Z",
     "iopub.status.idle": "2023-05-29T20:45:55.705683Z",
     "shell.execute_reply": "2023-05-29T20:45:55.704703Z"
    },
    "papermill": {
     "duration": 0.024249,
     "end_time": "2023-05-29T20:45:55.707891",
     "exception": false,
     "start_time": "2023-05-29T20:45:55.683642",
     "status": "completed"
    },
    "tags": []
   },
   "outputs": [
    {
     "data": {
      "text/plain": [
       "Index(['PassengerId', 'Survived', 'Pclass', 'Name', 'Sex', 'Age', 'SibSp',\n",
       "       'Parch', 'Ticket', 'Fare', 'Cabin', 'Embarked'],\n",
       "      dtype='object')"
      ]
     },
     "execution_count": 11,
     "metadata": {},
     "output_type": "execute_result"
    }
   ],
   "source": [
    "df.columns"
   ]
  },
  {
   "cell_type": "code",
   "execution_count": 12,
   "id": "59c96ae5",
   "metadata": {
    "execution": {
     "iopub.execute_input": "2023-05-29T20:45:55.737530Z",
     "iopub.status.busy": "2023-05-29T20:45:55.736855Z",
     "iopub.status.idle": "2023-05-29T20:45:55.746828Z",
     "shell.execute_reply": "2023-05-29T20:45:55.745835Z"
    },
    "papermill": {
     "duration": 0.027263,
     "end_time": "2023-05-29T20:45:55.749163",
     "exception": false,
     "start_time": "2023-05-29T20:45:55.721900",
     "status": "completed"
    },
    "tags": []
   },
   "outputs": [
    {
     "data": {
      "text/plain": [
       "PassengerId      0\n",
       "Survived         0\n",
       "Pclass           0\n",
       "Name             0\n",
       "Sex              0\n",
       "Age            177\n",
       "SibSp            0\n",
       "Parch            0\n",
       "Ticket           0\n",
       "Fare             0\n",
       "Cabin          687\n",
       "Embarked         2\n",
       "dtype: int64"
      ]
     },
     "execution_count": 12,
     "metadata": {},
     "output_type": "execute_result"
    }
   ],
   "source": [
    "df.isna().sum()"
   ]
  },
  {
   "cell_type": "code",
   "execution_count": 13,
   "id": "7f5e8f6f",
   "metadata": {
    "execution": {
     "iopub.execute_input": "2023-05-29T20:45:55.778166Z",
     "iopub.status.busy": "2023-05-29T20:45:55.777750Z",
     "iopub.status.idle": "2023-05-29T20:45:55.785010Z",
     "shell.execute_reply": "2023-05-29T20:45:55.783829Z"
    },
    "papermill": {
     "duration": 0.024649,
     "end_time": "2023-05-29T20:45:55.787412",
     "exception": false,
     "start_time": "2023-05-29T20:45:55.762763",
     "status": "completed"
    },
    "tags": []
   },
   "outputs": [],
   "source": [
    "df[\"Age\"].fillna(df[\"Age\"].median(),inplace=True)"
   ]
  },
  {
   "cell_type": "code",
   "execution_count": 14,
   "id": "65b148b1",
   "metadata": {
    "execution": {
     "iopub.execute_input": "2023-05-29T20:45:55.816593Z",
     "iopub.status.busy": "2023-05-29T20:45:55.816152Z",
     "iopub.status.idle": "2023-05-29T20:45:55.822545Z",
     "shell.execute_reply": "2023-05-29T20:45:55.821382Z"
    },
    "papermill": {
     "duration": 0.02367,
     "end_time": "2023-05-29T20:45:55.824803",
     "exception": false,
     "start_time": "2023-05-29T20:45:55.801133",
     "status": "completed"
    },
    "tags": []
   },
   "outputs": [],
   "source": [
    "df.drop(['Cabin'], axis = 1, inplace = True)"
   ]
  },
  {
   "cell_type": "code",
   "execution_count": 15,
   "id": "07e075ff",
   "metadata": {
    "execution": {
     "iopub.execute_input": "2023-05-29T20:45:55.854329Z",
     "iopub.status.busy": "2023-05-29T20:45:55.853407Z",
     "iopub.status.idle": "2023-05-29T20:45:55.860020Z",
     "shell.execute_reply": "2023-05-29T20:45:55.858959Z"
    },
    "papermill": {
     "duration": 0.024192,
     "end_time": "2023-05-29T20:45:55.862665",
     "exception": false,
     "start_time": "2023-05-29T20:45:55.838473",
     "status": "completed"
    },
    "tags": []
   },
   "outputs": [],
   "source": [
    "df[\"Embarked\"].fillna(\"S\",inplace=True)"
   ]
  },
  {
   "cell_type": "code",
   "execution_count": 16,
   "id": "9a5fd733",
   "metadata": {
    "execution": {
     "iopub.execute_input": "2023-05-29T20:45:55.892198Z",
     "iopub.status.busy": "2023-05-29T20:45:55.891806Z",
     "iopub.status.idle": "2023-05-29T20:45:55.901621Z",
     "shell.execute_reply": "2023-05-29T20:45:55.900453Z"
    },
    "papermill": {
     "duration": 0.027804,
     "end_time": "2023-05-29T20:45:55.904210",
     "exception": false,
     "start_time": "2023-05-29T20:45:55.876406",
     "status": "completed"
    },
    "tags": []
   },
   "outputs": [
    {
     "data": {
      "text/plain": [
       "PassengerId    0\n",
       "Survived       0\n",
       "Pclass         0\n",
       "Name           0\n",
       "Sex            0\n",
       "Age            0\n",
       "SibSp          0\n",
       "Parch          0\n",
       "Ticket         0\n",
       "Fare           0\n",
       "Embarked       0\n",
       "dtype: int64"
      ]
     },
     "execution_count": 16,
     "metadata": {},
     "output_type": "execute_result"
    }
   ],
   "source": [
    "df.isna().sum()"
   ]
  },
  {
   "cell_type": "code",
   "execution_count": 17,
   "id": "f3cf5f4d",
   "metadata": {
    "execution": {
     "iopub.execute_input": "2023-05-29T20:45:55.935648Z",
     "iopub.status.busy": "2023-05-29T20:45:55.934852Z",
     "iopub.status.idle": "2023-05-29T20:45:56.105276Z",
     "shell.execute_reply": "2023-05-29T20:45:56.104346Z"
    },
    "papermill": {
     "duration": 0.18992,
     "end_time": "2023-05-29T20:45:56.108583",
     "exception": false,
     "start_time": "2023-05-29T20:45:55.918663",
     "status": "completed"
    },
    "tags": []
   },
   "outputs": [],
   "source": [
    "from sklearn.preprocessing import StandardScaler "
   ]
  },
  {
   "cell_type": "code",
   "execution_count": 18,
   "id": "39b27bbc",
   "metadata": {
    "execution": {
     "iopub.execute_input": "2023-05-29T20:45:56.145453Z",
     "iopub.status.busy": "2023-05-29T20:45:56.144663Z",
     "iopub.status.idle": "2023-05-29T20:45:56.172558Z",
     "shell.execute_reply": "2023-05-29T20:45:56.171382Z"
    },
    "papermill": {
     "duration": 0.048298,
     "end_time": "2023-05-29T20:45:56.175191",
     "exception": false,
     "start_time": "2023-05-29T20:45:56.126893",
     "status": "completed"
    },
    "tags": []
   },
   "outputs": [
    {
     "data": {
      "text/html": [
       "<div>\n",
       "<style scoped>\n",
       "    .dataframe tbody tr th:only-of-type {\n",
       "        vertical-align: middle;\n",
       "    }\n",
       "\n",
       "    .dataframe tbody tr th {\n",
       "        vertical-align: top;\n",
       "    }\n",
       "\n",
       "    .dataframe thead th {\n",
       "        text-align: right;\n",
       "    }\n",
       "</style>\n",
       "<table border=\"1\" class=\"dataframe\">\n",
       "  <thead>\n",
       "    <tr style=\"text-align: right;\">\n",
       "      <th></th>\n",
       "      <th>PassengerId</th>\n",
       "      <th>Survived</th>\n",
       "      <th>Pclass</th>\n",
       "      <th>Name</th>\n",
       "      <th>Sex</th>\n",
       "      <th>Age</th>\n",
       "      <th>SibSp</th>\n",
       "      <th>Parch</th>\n",
       "      <th>Ticket</th>\n",
       "      <th>Fare</th>\n",
       "      <th>Embarked</th>\n",
       "    </tr>\n",
       "  </thead>\n",
       "  <tbody>\n",
       "    <tr>\n",
       "      <th>0</th>\n",
       "      <td>-1.730108</td>\n",
       "      <td>0</td>\n",
       "      <td>3</td>\n",
       "      <td>Braund, Mr. Owen Harris</td>\n",
       "      <td>male</td>\n",
       "      <td>-0.565736</td>\n",
       "      <td>1</td>\n",
       "      <td>0</td>\n",
       "      <td>A/5 21171</td>\n",
       "      <td>-0.502445</td>\n",
       "      <td>S</td>\n",
       "    </tr>\n",
       "    <tr>\n",
       "      <th>1</th>\n",
       "      <td>-1.726220</td>\n",
       "      <td>1</td>\n",
       "      <td>1</td>\n",
       "      <td>Cumings, Mrs. John Bradley (Florence Briggs Th...</td>\n",
       "      <td>female</td>\n",
       "      <td>0.663861</td>\n",
       "      <td>1</td>\n",
       "      <td>0</td>\n",
       "      <td>PC 17599</td>\n",
       "      <td>0.786845</td>\n",
       "      <td>C</td>\n",
       "    </tr>\n",
       "    <tr>\n",
       "      <th>2</th>\n",
       "      <td>-1.722332</td>\n",
       "      <td>1</td>\n",
       "      <td>3</td>\n",
       "      <td>Heikkinen, Miss. Laina</td>\n",
       "      <td>female</td>\n",
       "      <td>-0.258337</td>\n",
       "      <td>0</td>\n",
       "      <td>0</td>\n",
       "      <td>STON/O2. 3101282</td>\n",
       "      <td>-0.488854</td>\n",
       "      <td>S</td>\n",
       "    </tr>\n",
       "    <tr>\n",
       "      <th>3</th>\n",
       "      <td>-1.718444</td>\n",
       "      <td>1</td>\n",
       "      <td>1</td>\n",
       "      <td>Futrelle, Mrs. Jacques Heath (Lily May Peel)</td>\n",
       "      <td>female</td>\n",
       "      <td>0.433312</td>\n",
       "      <td>1</td>\n",
       "      <td>0</td>\n",
       "      <td>113803</td>\n",
       "      <td>0.420730</td>\n",
       "      <td>S</td>\n",
       "    </tr>\n",
       "    <tr>\n",
       "      <th>4</th>\n",
       "      <td>-1.714556</td>\n",
       "      <td>0</td>\n",
       "      <td>3</td>\n",
       "      <td>Allen, Mr. William Henry</td>\n",
       "      <td>male</td>\n",
       "      <td>0.433312</td>\n",
       "      <td>0</td>\n",
       "      <td>0</td>\n",
       "      <td>373450</td>\n",
       "      <td>-0.486337</td>\n",
       "      <td>S</td>\n",
       "    </tr>\n",
       "  </tbody>\n",
       "</table>\n",
       "</div>"
      ],
      "text/plain": [
       "   PassengerId  Survived  Pclass  \\\n",
       "0    -1.730108         0       3   \n",
       "1    -1.726220         1       1   \n",
       "2    -1.722332         1       3   \n",
       "3    -1.718444         1       1   \n",
       "4    -1.714556         0       3   \n",
       "\n",
       "                                                Name     Sex       Age  SibSp  \\\n",
       "0                            Braund, Mr. Owen Harris    male -0.565736      1   \n",
       "1  Cumings, Mrs. John Bradley (Florence Briggs Th...  female  0.663861      1   \n",
       "2                             Heikkinen, Miss. Laina  female -0.258337      0   \n",
       "3       Futrelle, Mrs. Jacques Heath (Lily May Peel)  female  0.433312      1   \n",
       "4                           Allen, Mr. William Henry    male  0.433312      0   \n",
       "\n",
       "   Parch            Ticket      Fare Embarked  \n",
       "0      0         A/5 21171 -0.502445        S  \n",
       "1      0          PC 17599  0.786845        C  \n",
       "2      0  STON/O2. 3101282 -0.488854        S  \n",
       "3      0            113803  0.420730        S  \n",
       "4      0            373450 -0.486337        S  "
      ]
     },
     "execution_count": 18,
     "metadata": {},
     "output_type": "execute_result"
    }
   ],
   "source": [
    "scaler = StandardScaler()\n",
    "df[num_cols] = scaler.fit_transform(df[num_cols])\n",
    "df.head()"
   ]
  },
  {
   "cell_type": "code",
   "execution_count": 19,
   "id": "317ade6d",
   "metadata": {
    "execution": {
     "iopub.execute_input": "2023-05-29T20:45:56.206453Z",
     "iopub.status.busy": "2023-05-29T20:45:56.205752Z",
     "iopub.status.idle": "2023-05-29T20:45:56.212725Z",
     "shell.execute_reply": "2023-05-29T20:45:56.211618Z"
    },
    "papermill": {
     "duration": 0.025839,
     "end_time": "2023-05-29T20:45:56.215302",
     "exception": false,
     "start_time": "2023-05-29T20:45:56.189463",
     "status": "completed"
    },
    "tags": []
   },
   "outputs": [],
   "source": [
    "def outlier_thresholds(dataframe, col_name, q1=0.05, q3=0.95):\n",
    "    quartile1 = dataframe[col_name].quantile(q1)\n",
    "    quartile3 = dataframe[col_name].quantile(q3)\n",
    "    interquantile_range = quartile3 - quartile1\n",
    "    up_limit = quartile3 + 1.5 * interquantile_range\n",
    "    low_limit = quartile1 - 1.5 * interquantile_range\n",
    "    return low_limit, up_limit"
   ]
  },
  {
   "cell_type": "code",
   "execution_count": 20,
   "id": "5bcbae0b",
   "metadata": {
    "execution": {
     "iopub.execute_input": "2023-05-29T20:45:56.246010Z",
     "iopub.status.busy": "2023-05-29T20:45:56.245354Z",
     "iopub.status.idle": "2023-05-29T20:45:56.251411Z",
     "shell.execute_reply": "2023-05-29T20:45:56.250576Z"
    },
    "papermill": {
     "duration": 0.024253,
     "end_time": "2023-05-29T20:45:56.253860",
     "exception": false,
     "start_time": "2023-05-29T20:45:56.229607",
     "status": "completed"
    },
    "tags": []
   },
   "outputs": [],
   "source": [
    "def check_outlier(dataframe, col_name):\n",
    "    low_limit, up_limit = outlier_thresholds(dataframe, col_name)\n",
    "    if dataframe[(dataframe[col_name] > up_limit) | (dataframe[col_name] < low_limit)].any(axis=None):\n",
    "        return True\n",
    "    else:\n",
    "        return False"
   ]
  },
  {
   "cell_type": "code",
   "execution_count": 21,
   "id": "7ffb57df",
   "metadata": {
    "execution": {
     "iopub.execute_input": "2023-05-29T20:45:56.284706Z",
     "iopub.status.busy": "2023-05-29T20:45:56.284056Z",
     "iopub.status.idle": "2023-05-29T20:45:56.304513Z",
     "shell.execute_reply": "2023-05-29T20:45:56.303595Z"
    },
    "papermill": {
     "duration": 0.039402,
     "end_time": "2023-05-29T20:45:56.307549",
     "exception": false,
     "start_time": "2023-05-29T20:45:56.268147",
     "status": "completed"
    },
    "tags": []
   },
   "outputs": [
    {
     "name": "stdout",
     "output_type": "stream",
     "text": [
      "False\n",
      "False\n",
      "True\n"
     ]
    }
   ],
   "source": [
    "for col in num_cols:\n",
    "    print(check_outlier(df,col))"
   ]
  },
  {
   "cell_type": "code",
   "execution_count": 22,
   "id": "2e23b341",
   "metadata": {
    "execution": {
     "iopub.execute_input": "2023-05-29T20:45:56.344688Z",
     "iopub.status.busy": "2023-05-29T20:45:56.343737Z",
     "iopub.status.idle": "2023-05-29T20:45:56.351355Z",
     "shell.execute_reply": "2023-05-29T20:45:56.350061Z"
    },
    "papermill": {
     "duration": 0.027419,
     "end_time": "2023-05-29T20:45:56.353885",
     "exception": false,
     "start_time": "2023-05-29T20:45:56.326466",
     "status": "completed"
    },
    "tags": []
   },
   "outputs": [],
   "source": [
    "def replace_with_thresholds(dataframe, variable, q1=0.05, q3=0.95):\n",
    "    low_limit, up_limit = outlier_thresholds(dataframe, variable, q1=0.05, q3=0.95)\n",
    "    dataframe.loc[(dataframe[variable] < low_limit), variable] = low_limit\n",
    "    dataframe.loc[(dataframe[variable] > up_limit), variable] = up_limit"
   ]
  },
  {
   "cell_type": "code",
   "execution_count": 23,
   "id": "5368d021",
   "metadata": {
    "execution": {
     "iopub.execute_input": "2023-05-29T20:45:56.384238Z",
     "iopub.status.busy": "2023-05-29T20:45:56.383848Z",
     "iopub.status.idle": "2023-05-29T20:45:56.400984Z",
     "shell.execute_reply": "2023-05-29T20:45:56.399855Z"
    },
    "papermill": {
     "duration": 0.03565,
     "end_time": "2023-05-29T20:45:56.403695",
     "exception": false,
     "start_time": "2023-05-29T20:45:56.368045",
     "status": "completed"
    },
    "tags": []
   },
   "outputs": [],
   "source": [
    "for col in num_cols: \n",
    "    replace_with_thresholds(df,col,0.05,0.95)"
   ]
  },
  {
   "cell_type": "code",
   "execution_count": 24,
   "id": "cb845db3",
   "metadata": {
    "execution": {
     "iopub.execute_input": "2023-05-29T20:45:56.434759Z",
     "iopub.status.busy": "2023-05-29T20:45:56.433843Z",
     "iopub.status.idle": "2023-05-29T20:45:56.455235Z",
     "shell.execute_reply": "2023-05-29T20:45:56.453590Z"
    },
    "papermill": {
     "duration": 0.040038,
     "end_time": "2023-05-29T20:45:56.457971",
     "exception": false,
     "start_time": "2023-05-29T20:45:56.417933",
     "status": "completed"
    },
    "tags": []
   },
   "outputs": [
    {
     "name": "stdout",
     "output_type": "stream",
     "text": [
      "False\n",
      "False\n",
      "False\n"
     ]
    }
   ],
   "source": [
    "for col in num_cols:\n",
    "    print(check_outlier(df,col))"
   ]
  },
  {
   "cell_type": "code",
   "execution_count": 25,
   "id": "d599189f",
   "metadata": {
    "execution": {
     "iopub.execute_input": "2023-05-29T20:45:56.489581Z",
     "iopub.status.busy": "2023-05-29T20:45:56.488509Z",
     "iopub.status.idle": "2023-05-29T20:45:56.534263Z",
     "shell.execute_reply": "2023-05-29T20:45:56.532967Z"
    },
    "papermill": {
     "duration": 0.064297,
     "end_time": "2023-05-29T20:45:56.537025",
     "exception": false,
     "start_time": "2023-05-29T20:45:56.472728",
     "status": "completed"
    },
    "tags": []
   },
   "outputs": [
    {
     "data": {
      "text/html": [
       "<div>\n",
       "<style scoped>\n",
       "    .dataframe tbody tr th:only-of-type {\n",
       "        vertical-align: middle;\n",
       "    }\n",
       "\n",
       "    .dataframe tbody tr th {\n",
       "        vertical-align: top;\n",
       "    }\n",
       "\n",
       "    .dataframe thead th {\n",
       "        text-align: right;\n",
       "    }\n",
       "</style>\n",
       "<table border=\"1\" class=\"dataframe\">\n",
       "  <thead>\n",
       "    <tr style=\"text-align: right;\">\n",
       "      <th></th>\n",
       "      <th>PassengerId</th>\n",
       "      <th>Survived</th>\n",
       "      <th>Pclass</th>\n",
       "      <th>Age</th>\n",
       "      <th>SibSp</th>\n",
       "      <th>Parch</th>\n",
       "      <th>Fare</th>\n",
       "      <th>Name_Abbott, Mr. Rossmore Edward</th>\n",
       "      <th>Name_Abbott, Mrs. Stanton (Rosa Hunt)</th>\n",
       "      <th>Name_Abelson, Mr. Samuel</th>\n",
       "      <th>...</th>\n",
       "      <th>Ticket_W./C. 14258</th>\n",
       "      <th>Ticket_W./C. 14263</th>\n",
       "      <th>Ticket_W./C. 6607</th>\n",
       "      <th>Ticket_W./C. 6608</th>\n",
       "      <th>Ticket_W./C. 6609</th>\n",
       "      <th>Ticket_W.E.P. 5734</th>\n",
       "      <th>Ticket_W/C 14208</th>\n",
       "      <th>Ticket_WE/P 5735</th>\n",
       "      <th>Embarked_Q</th>\n",
       "      <th>Embarked_S</th>\n",
       "    </tr>\n",
       "  </thead>\n",
       "  <tbody>\n",
       "    <tr>\n",
       "      <th>0</th>\n",
       "      <td>-1.730108</td>\n",
       "      <td>0</td>\n",
       "      <td>3</td>\n",
       "      <td>-0.565736</td>\n",
       "      <td>1</td>\n",
       "      <td>0</td>\n",
       "      <td>-0.502445</td>\n",
       "      <td>0</td>\n",
       "      <td>0</td>\n",
       "      <td>0</td>\n",
       "      <td>...</td>\n",
       "      <td>0</td>\n",
       "      <td>0</td>\n",
       "      <td>0</td>\n",
       "      <td>0</td>\n",
       "      <td>0</td>\n",
       "      <td>0</td>\n",
       "      <td>0</td>\n",
       "      <td>0</td>\n",
       "      <td>0</td>\n",
       "      <td>1</td>\n",
       "    </tr>\n",
       "    <tr>\n",
       "      <th>1</th>\n",
       "      <td>-1.726220</td>\n",
       "      <td>1</td>\n",
       "      <td>1</td>\n",
       "      <td>0.663861</td>\n",
       "      <td>1</td>\n",
       "      <td>0</td>\n",
       "      <td>0.786845</td>\n",
       "      <td>0</td>\n",
       "      <td>0</td>\n",
       "      <td>0</td>\n",
       "      <td>...</td>\n",
       "      <td>0</td>\n",
       "      <td>0</td>\n",
       "      <td>0</td>\n",
       "      <td>0</td>\n",
       "      <td>0</td>\n",
       "      <td>0</td>\n",
       "      <td>0</td>\n",
       "      <td>0</td>\n",
       "      <td>0</td>\n",
       "      <td>0</td>\n",
       "    </tr>\n",
       "    <tr>\n",
       "      <th>2</th>\n",
       "      <td>-1.722332</td>\n",
       "      <td>1</td>\n",
       "      <td>3</td>\n",
       "      <td>-0.258337</td>\n",
       "      <td>0</td>\n",
       "      <td>0</td>\n",
       "      <td>-0.488854</td>\n",
       "      <td>0</td>\n",
       "      <td>0</td>\n",
       "      <td>0</td>\n",
       "      <td>...</td>\n",
       "      <td>0</td>\n",
       "      <td>0</td>\n",
       "      <td>0</td>\n",
       "      <td>0</td>\n",
       "      <td>0</td>\n",
       "      <td>0</td>\n",
       "      <td>0</td>\n",
       "      <td>0</td>\n",
       "      <td>0</td>\n",
       "      <td>1</td>\n",
       "    </tr>\n",
       "    <tr>\n",
       "      <th>3</th>\n",
       "      <td>-1.718444</td>\n",
       "      <td>1</td>\n",
       "      <td>1</td>\n",
       "      <td>0.433312</td>\n",
       "      <td>1</td>\n",
       "      <td>0</td>\n",
       "      <td>0.420730</td>\n",
       "      <td>0</td>\n",
       "      <td>0</td>\n",
       "      <td>0</td>\n",
       "      <td>...</td>\n",
       "      <td>0</td>\n",
       "      <td>0</td>\n",
       "      <td>0</td>\n",
       "      <td>0</td>\n",
       "      <td>0</td>\n",
       "      <td>0</td>\n",
       "      <td>0</td>\n",
       "      <td>0</td>\n",
       "      <td>0</td>\n",
       "      <td>1</td>\n",
       "    </tr>\n",
       "    <tr>\n",
       "      <th>4</th>\n",
       "      <td>-1.714556</td>\n",
       "      <td>0</td>\n",
       "      <td>3</td>\n",
       "      <td>0.433312</td>\n",
       "      <td>0</td>\n",
       "      <td>0</td>\n",
       "      <td>-0.486337</td>\n",
       "      <td>0</td>\n",
       "      <td>0</td>\n",
       "      <td>0</td>\n",
       "      <td>...</td>\n",
       "      <td>0</td>\n",
       "      <td>0</td>\n",
       "      <td>0</td>\n",
       "      <td>0</td>\n",
       "      <td>0</td>\n",
       "      <td>0</td>\n",
       "      <td>0</td>\n",
       "      <td>0</td>\n",
       "      <td>0</td>\n",
       "      <td>1</td>\n",
       "    </tr>\n",
       "  </tbody>\n",
       "</table>\n",
       "<p>5 rows × 1580 columns</p>\n",
       "</div>"
      ],
      "text/plain": [
       "   PassengerId  Survived  Pclass       Age  SibSp  Parch      Fare  \\\n",
       "0    -1.730108         0       3 -0.565736      1      0 -0.502445   \n",
       "1    -1.726220         1       1  0.663861      1      0  0.786845   \n",
       "2    -1.722332         1       3 -0.258337      0      0 -0.488854   \n",
       "3    -1.718444         1       1  0.433312      1      0  0.420730   \n",
       "4    -1.714556         0       3  0.433312      0      0 -0.486337   \n",
       "\n",
       "   Name_Abbott, Mr. Rossmore Edward  Name_Abbott, Mrs. Stanton (Rosa Hunt)  \\\n",
       "0                                 0                                      0   \n",
       "1                                 0                                      0   \n",
       "2                                 0                                      0   \n",
       "3                                 0                                      0   \n",
       "4                                 0                                      0   \n",
       "\n",
       "   Name_Abelson, Mr. Samuel  ...  Ticket_W./C. 14258  Ticket_W./C. 14263  \\\n",
       "0                         0  ...                   0                   0   \n",
       "1                         0  ...                   0                   0   \n",
       "2                         0  ...                   0                   0   \n",
       "3                         0  ...                   0                   0   \n",
       "4                         0  ...                   0                   0   \n",
       "\n",
       "   Ticket_W./C. 6607  Ticket_W./C. 6608  Ticket_W./C. 6609  \\\n",
       "0                  0                  0                  0   \n",
       "1                  0                  0                  0   \n",
       "2                  0                  0                  0   \n",
       "3                  0                  0                  0   \n",
       "4                  0                  0                  0   \n",
       "\n",
       "   Ticket_W.E.P. 5734  Ticket_W/C 14208  Ticket_WE/P 5735  Embarked_Q  \\\n",
       "0                   0                 0                 0           0   \n",
       "1                   0                 0                 0           0   \n",
       "2                   0                 0                 0           0   \n",
       "3                   0                 0                 0           0   \n",
       "4                   0                 0                 0           0   \n",
       "\n",
       "   Embarked_S  \n",
       "0           1  \n",
       "1           0  \n",
       "2           1  \n",
       "3           1  \n",
       "4           1  \n",
       "\n",
       "[5 rows x 1580 columns]"
      ]
     },
     "execution_count": 25,
     "metadata": {},
     "output_type": "execute_result"
    }
   ],
   "source": [
    "df = pd.get_dummies(df,drop_first=True) \n",
    "df.head()"
   ]
  },
  {
   "cell_type": "code",
   "execution_count": 26,
   "id": "53285509",
   "metadata": {
    "execution": {
     "iopub.execute_input": "2023-05-29T20:45:56.569566Z",
     "iopub.status.busy": "2023-05-29T20:45:56.569164Z",
     "iopub.status.idle": "2023-05-29T20:45:56.689646Z",
     "shell.execute_reply": "2023-05-29T20:45:56.688551Z"
    },
    "papermill": {
     "duration": 0.140014,
     "end_time": "2023-05-29T20:45:56.692628",
     "exception": false,
     "start_time": "2023-05-29T20:45:56.552614",
     "status": "completed"
    },
    "tags": []
   },
   "outputs": [],
   "source": [
    "from sklearn.model_selection import train_test_split\n",
    "from sklearn.metrics import accuracy_score, precision_score, recall_score, f1_score, roc_auc_score"
   ]
  },
  {
   "cell_type": "code",
   "execution_count": 27,
   "id": "d8f9ff67",
   "metadata": {
    "execution": {
     "iopub.execute_input": "2023-05-29T20:45:56.726176Z",
     "iopub.status.busy": "2023-05-29T20:45:56.725790Z",
     "iopub.status.idle": "2023-05-29T20:45:56.735991Z",
     "shell.execute_reply": "2023-05-29T20:45:56.734877Z"
    },
    "papermill": {
     "duration": 0.031244,
     "end_time": "2023-05-29T20:45:56.738405",
     "exception": false,
     "start_time": "2023-05-29T20:45:56.707161",
     "status": "completed"
    },
    "tags": []
   },
   "outputs": [],
   "source": [
    "y = df[\"Survived\"]\n",
    "X = df.drop(\"Survived\",axis=1)"
   ]
  },
  {
   "cell_type": "code",
   "execution_count": 28,
   "id": "ad1b6142",
   "metadata": {
    "execution": {
     "iopub.execute_input": "2023-05-29T20:45:56.769410Z",
     "iopub.status.busy": "2023-05-29T20:45:56.768999Z",
     "iopub.status.idle": "2023-05-29T20:45:56.790049Z",
     "shell.execute_reply": "2023-05-29T20:45:56.788977Z"
    },
    "papermill": {
     "duration": 0.03985,
     "end_time": "2023-05-29T20:45:56.792872",
     "exception": false,
     "start_time": "2023-05-29T20:45:56.753022",
     "status": "completed"
    },
    "tags": []
   },
   "outputs": [],
   "source": [
    "X_train, X_test, y_train, y_test = train_test_split(X,y, test_size=0.20, random_state=17)"
   ]
  },
  {
   "cell_type": "code",
   "execution_count": 29,
   "id": "3e952e25",
   "metadata": {
    "execution": {
     "iopub.execute_input": "2023-05-29T20:45:56.823929Z",
     "iopub.status.busy": "2023-05-29T20:45:56.823531Z",
     "iopub.status.idle": "2023-05-29T20:45:56.830956Z",
     "shell.execute_reply": "2023-05-29T20:45:56.829789Z"
    },
    "papermill": {
     "duration": 0.025821,
     "end_time": "2023-05-29T20:45:56.833276",
     "exception": false,
     "start_time": "2023-05-29T20:45:56.807455",
     "status": "completed"
    },
    "tags": []
   },
   "outputs": [
    {
     "data": {
      "text/plain": [
       "(712, 1579)"
      ]
     },
     "execution_count": 29,
     "metadata": {},
     "output_type": "execute_result"
    }
   ],
   "source": [
    "X_train.shape"
   ]
  },
  {
   "cell_type": "code",
   "execution_count": 30,
   "id": "5ccd1b39",
   "metadata": {
    "execution": {
     "iopub.execute_input": "2023-05-29T20:45:56.864836Z",
     "iopub.status.busy": "2023-05-29T20:45:56.864339Z",
     "iopub.status.idle": "2023-05-29T20:45:56.871014Z",
     "shell.execute_reply": "2023-05-29T20:45:56.870184Z"
    },
    "papermill": {
     "duration": 0.024924,
     "end_time": "2023-05-29T20:45:56.873056",
     "exception": false,
     "start_time": "2023-05-29T20:45:56.848132",
     "status": "completed"
    },
    "tags": []
   },
   "outputs": [
    {
     "data": {
      "text/plain": [
       "(712,)"
      ]
     },
     "execution_count": 30,
     "metadata": {},
     "output_type": "execute_result"
    }
   ],
   "source": [
    "y_train.shape"
   ]
  },
  {
   "cell_type": "code",
   "execution_count": 31,
   "id": "fb72ac2c",
   "metadata": {
    "execution": {
     "iopub.execute_input": "2023-05-29T20:45:56.906445Z",
     "iopub.status.busy": "2023-05-29T20:45:56.905636Z",
     "iopub.status.idle": "2023-05-29T20:45:57.303888Z",
     "shell.execute_reply": "2023-05-29T20:45:57.302891Z"
    },
    "papermill": {
     "duration": 0.417923,
     "end_time": "2023-05-29T20:45:57.306615",
     "exception": false,
     "start_time": "2023-05-29T20:45:56.888692",
     "status": "completed"
    },
    "tags": []
   },
   "outputs": [],
   "source": [
    "from sklearn.ensemble import RandomForestClassifier\n"
   ]
  },
  {
   "cell_type": "code",
   "execution_count": 32,
   "id": "f76d5f4b",
   "metadata": {
    "execution": {
     "iopub.execute_input": "2023-05-29T20:45:57.339066Z",
     "iopub.status.busy": "2023-05-29T20:45:57.338673Z",
     "iopub.status.idle": "2023-05-29T20:45:57.959186Z",
     "shell.execute_reply": "2023-05-29T20:45:57.958145Z"
    },
    "papermill": {
     "duration": 0.640393,
     "end_time": "2023-05-29T20:45:57.962133",
     "exception": false,
     "start_time": "2023-05-29T20:45:57.321740",
     "status": "completed"
    },
    "tags": []
   },
   "outputs": [],
   "source": [
    "model = RandomForestClassifier().fit(X_train,y_train)"
   ]
  },
  {
   "cell_type": "code",
   "execution_count": 33,
   "id": "d149dfc7",
   "metadata": {
    "execution": {
     "iopub.execute_input": "2023-05-29T20:45:57.993663Z",
     "iopub.status.busy": "2023-05-29T20:45:57.993219Z",
     "iopub.status.idle": "2023-05-29T20:45:58.045559Z",
     "shell.execute_reply": "2023-05-29T20:45:58.043904Z"
    },
    "papermill": {
     "duration": 0.071327,
     "end_time": "2023-05-29T20:45:58.048420",
     "exception": false,
     "start_time": "2023-05-29T20:45:57.977093",
     "status": "completed"
    },
    "tags": []
   },
   "outputs": [],
   "source": [
    "y_pred = model.predict(X_test)"
   ]
  },
  {
   "cell_type": "code",
   "execution_count": 34,
   "id": "b8751ed0",
   "metadata": {
    "execution": {
     "iopub.execute_input": "2023-05-29T20:45:58.080228Z",
     "iopub.status.busy": "2023-05-29T20:45:58.079831Z",
     "iopub.status.idle": "2023-05-29T20:45:58.103429Z",
     "shell.execute_reply": "2023-05-29T20:45:58.102096Z"
    },
    "papermill": {
     "duration": 0.042189,
     "end_time": "2023-05-29T20:45:58.105785",
     "exception": false,
     "start_time": "2023-05-29T20:45:58.063596",
     "status": "completed"
    },
    "tags": []
   },
   "outputs": [
    {
     "name": "stdout",
     "output_type": "stream",
     "text": [
      "Accuracy: 0.79\n",
      "Recall: 0.78\n",
      "Precision: 0.68\n",
      "F1: 0.73\n",
      "Auc: 0.79\n"
     ]
    }
   ],
   "source": [
    "print(f\"Accuracy: {round(accuracy_score(y_pred, y_test), 2)}\")\n",
    "print(f\"Recall: {round(recall_score(y_pred,y_test),2)}\")\n",
    "print(f\"Precision: {round(precision_score(y_pred,y_test), 2)}\")\n",
    "print(f\"F1: {round(f1_score(y_pred,y_test), 2)}\")\n",
    "print(f\"Auc: {round(roc_auc_score(y_pred,y_test), 2)}\")"
   ]
  },
  {
   "cell_type": "code",
   "execution_count": null,
   "id": "0f7540b3",
   "metadata": {
    "papermill": {
     "duration": 0.014618,
     "end_time": "2023-05-29T20:45:58.135398",
     "exception": false,
     "start_time": "2023-05-29T20:45:58.120780",
     "status": "completed"
    },
    "tags": []
   },
   "outputs": [],
   "source": []
  }
 ],
 "metadata": {
  "kernelspec": {
   "display_name": "Python 3",
   "language": "python",
   "name": "python3"
  },
  "language_info": {
   "codemirror_mode": {
    "name": "ipython",
    "version": 3
   },
   "file_extension": ".py",
   "mimetype": "text/x-python",
   "name": "python",
   "nbconvert_exporter": "python",
   "pygments_lexer": "ipython3",
   "version": "3.10.10"
  },
  "papermill": {
   "default_parameters": {},
   "duration": 18.407132,
   "end_time": "2023-05-29T20:45:59.172579",
   "environment_variables": {},
   "exception": null,
   "input_path": "__notebook__.ipynb",
   "output_path": "__notebook__.ipynb",
   "parameters": {},
   "start_time": "2023-05-29T20:45:40.765447",
   "version": "2.4.0"
  }
 },
 "nbformat": 4,
 "nbformat_minor": 5
}
